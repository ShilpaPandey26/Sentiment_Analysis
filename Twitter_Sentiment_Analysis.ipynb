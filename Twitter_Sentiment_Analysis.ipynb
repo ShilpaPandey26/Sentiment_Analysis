{
 "cells": [
  {
   "cell_type": "markdown",
   "metadata": {},
   "source": [
    "# Twitter Sentiment Analysis"
   ]
  },
  {
   "cell_type": "markdown",
   "metadata": {},
   "source": [
    "## Introduction\n",
    "This project aims to analyze sentiments expressed in tweets using machine learning techniques. By classifying tweets into categories such as positive, negative, neutral, and irrelevant, the model provides insights into public opinions and trends. This analysis can be valuable for various applications, including market research, customer feedback analysis, and social media monitoring. The project leverages Natural Language Processing (NLP) for text preprocessing and a RandomForest classifier for sentiment prediction."
   ]
  },
  {
   "cell_type": "markdown",
   "metadata": {},
   "source": [
    "## Imports and Setup\n",
    "In this cell, we import essential libraries for our analysis:\n",
    "\n",
    "numpy for numerical operations\n",
    "\n",
    "pandas for data manipulation\n",
    "\n",
    "matplotlib.pyplot and seaborn for data visualization\n",
    "\n",
    "warnings to ignore any unnecessary warnings for a cleaner output"
   ]
  },
  {
   "cell_type": "code",
   "execution_count": 1,
   "metadata": {
    "id": "6n1Pt4nyjypF"
   },
   "outputs": [],
   "source": [
    "import numpy as np\n",
    "import pandas as pd\n",
    "import matplotlib.pyplot as plt\n",
    "import seaborn as sns\n",
    "\n",
    "import warnings\n",
    "warnings.filterwarnings('ignore')"
   ]
  },
  {
   "cell_type": "markdown",
   "metadata": {},
   "source": [
    "## Loading the Training Data\n",
    "Loading the training dataset from a CSV file named twitter_training.csv using pandas. The first three rows of the dataset are displayed to give an overview of its structure and contents."
   ]
  },
  {
   "cell_type": "code",
   "execution_count": 2,
   "metadata": {
    "colab": {
     "base_uri": "https://localhost:8080/",
     "height": 143
    },
    "id": "bHvveYr6KsWN",
    "outputId": "ed1ba715-00ec-48b4-9730-6c625b9a84c4",
    "scrolled": true
   },
   "outputs": [
    {
     "data": {
      "text/html": [
       "<div>\n",
       "<style scoped>\n",
       "    .dataframe tbody tr th:only-of-type {\n",
       "        vertical-align: middle;\n",
       "    }\n",
       "\n",
       "    .dataframe tbody tr th {\n",
       "        vertical-align: top;\n",
       "    }\n",
       "\n",
       "    .dataframe thead th {\n",
       "        text-align: right;\n",
       "    }\n",
       "</style>\n",
       "<table border=\"1\" class=\"dataframe\">\n",
       "  <thead>\n",
       "    <tr style=\"text-align: right;\">\n",
       "      <th></th>\n",
       "      <th>2401</th>\n",
       "      <th>Borderlands</th>\n",
       "      <th>Negative</th>\n",
       "      <th>im getting on borderlands and i will murder you all ,</th>\n",
       "    </tr>\n",
       "  </thead>\n",
       "  <tbody>\n",
       "    <tr>\n",
       "      <th>0</th>\n",
       "      <td>2401</td>\n",
       "      <td>Borderlands</td>\n",
       "      <td>Negative</td>\n",
       "      <td>I am coming to the borders and I will kill you...</td>\n",
       "    </tr>\n",
       "    <tr>\n",
       "      <th>1</th>\n",
       "      <td>2401</td>\n",
       "      <td>Borderlands</td>\n",
       "      <td>Negative</td>\n",
       "      <td>im getting on borderlands and i will kill you ...</td>\n",
       "    </tr>\n",
       "    <tr>\n",
       "      <th>2</th>\n",
       "      <td>2401</td>\n",
       "      <td>Borderlands</td>\n",
       "      <td>Negative</td>\n",
       "      <td>im coming on borderlands and i will murder you...</td>\n",
       "    </tr>\n",
       "  </tbody>\n",
       "</table>\n",
       "</div>"
      ],
      "text/plain": [
       "   2401  Borderlands  Negative  \\\n",
       "0  2401  Borderlands  Negative   \n",
       "1  2401  Borderlands  Negative   \n",
       "2  2401  Borderlands  Negative   \n",
       "\n",
       "  im getting on borderlands and i will murder you all ,  \n",
       "0  I am coming to the borders and I will kill you...     \n",
       "1  im getting on borderlands and i will kill you ...     \n",
       "2  im coming on borderlands and i will murder you...     "
      ]
     },
     "execution_count": 2,
     "metadata": {},
     "output_type": "execute_result"
    }
   ],
   "source": [
    "train = pd.read_csv('twitter_training.csv')\n",
    "train.head(3)"
   ]
  },
  {
   "cell_type": "markdown",
   "metadata": {},
   "source": [
    "## Loading the Testing Data\n",
    "Loading the testing dataset from a CSV file named twitter_testing.csv using pandas. The first three rows of the dataset are displayed to give an overview of its structure and contents."
   ]
  },
  {
   "cell_type": "code",
   "execution_count": 3,
   "metadata": {
    "colab": {
     "base_uri": "https://localhost:8080/",
     "height": 161
    },
    "id": "xOVWGxCZBqHz",
    "outputId": "f0c5c749-ce21-4852-8a1d-f4f8e3f2faea"
   },
   "outputs": [
    {
     "data": {
      "text/html": [
       "<div>\n",
       "<style scoped>\n",
       "    .dataframe tbody tr th:only-of-type {\n",
       "        vertical-align: middle;\n",
       "    }\n",
       "\n",
       "    .dataframe tbody tr th {\n",
       "        vertical-align: top;\n",
       "    }\n",
       "\n",
       "    .dataframe thead th {\n",
       "        text-align: right;\n",
       "    }\n",
       "</style>\n",
       "<table border=\"1\" class=\"dataframe\">\n",
       "  <thead>\n",
       "    <tr style=\"text-align: right;\">\n",
       "      <th></th>\n",
       "      <th>3364</th>\n",
       "      <th>Facebook</th>\n",
       "      <th>Irrelevant</th>\n",
       "      <th>I mentioned on Facebook that I was struggling for motivation to go for a run the other day, which has been translated by Tom’s great auntie as ‘Hayley can’t get out of bed’ and told to his grandma, who now thinks I’m a lazy, terrible person 🤣</th>\n",
       "    </tr>\n",
       "  </thead>\n",
       "  <tbody>\n",
       "    <tr>\n",
       "      <th>0</th>\n",
       "      <td>352</td>\n",
       "      <td>Amazon</td>\n",
       "      <td>Neutral</td>\n",
       "      <td>BBC News - Amazon boss Jeff Bezos rejects clai...</td>\n",
       "    </tr>\n",
       "    <tr>\n",
       "      <th>1</th>\n",
       "      <td>8312</td>\n",
       "      <td>Microsoft</td>\n",
       "      <td>Negative</td>\n",
       "      <td>@Microsoft Why do I pay for WORD when it funct...</td>\n",
       "    </tr>\n",
       "    <tr>\n",
       "      <th>2</th>\n",
       "      <td>4371</td>\n",
       "      <td>CS-GO</td>\n",
       "      <td>Negative</td>\n",
       "      <td>CSGO matchmaking is so full of closet hacking,...</td>\n",
       "    </tr>\n",
       "  </tbody>\n",
       "</table>\n",
       "</div>"
      ],
      "text/plain": [
       "   3364   Facebook Irrelevant  \\\n",
       "0   352     Amazon    Neutral   \n",
       "1  8312  Microsoft   Negative   \n",
       "2  4371      CS-GO   Negative   \n",
       "\n",
       "  I mentioned on Facebook that I was struggling for motivation to go for a run the other day, which has been translated by Tom’s great auntie as ‘Hayley can’t get out of bed’ and told to his grandma, who now thinks I’m a lazy, terrible person 🤣  \n",
       "0  BBC News - Amazon boss Jeff Bezos rejects clai...                                                                                                                                                                                                  \n",
       "1  @Microsoft Why do I pay for WORD when it funct...                                                                                                                                                                                                  \n",
       "2  CSGO matchmaking is so full of closet hacking,...                                                                                                                                                                                                  "
      ]
     },
     "execution_count": 3,
     "metadata": {},
     "output_type": "execute_result"
    }
   ],
   "source": [
    "test = pd.read_csv('twitter_validation.csv')\n",
    "test.head(3)"
   ]
  },
  {
   "cell_type": "markdown",
   "metadata": {},
   "source": [
    "## Loading and Displaying the Data with Column Names\n",
    "\n",
    "Defining the column names for the dataset.\n",
    "Load the CSV file 'twitter_training.csv' and 'twitter_testing.csv' into a pandas dataframe, specifying the column names and handling quoted text properly.\n",
    "Display the first three rows of the dataframe to inspect the initial data."
   ]
  },
  {
   "cell_type": "code",
   "execution_count": 4,
   "metadata": {
    "colab": {
     "base_uri": "https://localhost:8080/",
     "height": 143
    },
    "id": "ZVqfBNg8L0KY",
    "outputId": "77fb3b94-1cf9-49e4-f166-58439bc80d04"
   },
   "outputs": [
    {
     "data": {
      "text/html": [
       "<div>\n",
       "<style scoped>\n",
       "    .dataframe tbody tr th:only-of-type {\n",
       "        vertical-align: middle;\n",
       "    }\n",
       "\n",
       "    .dataframe tbody tr th {\n",
       "        vertical-align: top;\n",
       "    }\n",
       "\n",
       "    .dataframe thead th {\n",
       "        text-align: right;\n",
       "    }\n",
       "</style>\n",
       "<table border=\"1\" class=\"dataframe\">\n",
       "  <thead>\n",
       "    <tr style=\"text-align: right;\">\n",
       "      <th></th>\n",
       "      <th>id</th>\n",
       "      <th>company</th>\n",
       "      <th>sentiment</th>\n",
       "      <th>comment</th>\n",
       "    </tr>\n",
       "  </thead>\n",
       "  <tbody>\n",
       "    <tr>\n",
       "      <th>0</th>\n",
       "      <td>2401</td>\n",
       "      <td>Borderlands</td>\n",
       "      <td>Negative</td>\n",
       "      <td>im getting on borderlands and i will murder yo...</td>\n",
       "    </tr>\n",
       "    <tr>\n",
       "      <th>1</th>\n",
       "      <td>2401</td>\n",
       "      <td>Borderlands</td>\n",
       "      <td>Negative</td>\n",
       "      <td>I am coming to the borders and I will kill you...</td>\n",
       "    </tr>\n",
       "    <tr>\n",
       "      <th>2</th>\n",
       "      <td>2401</td>\n",
       "      <td>Borderlands</td>\n",
       "      <td>Negative</td>\n",
       "      <td>im getting on borderlands and i will kill you ...</td>\n",
       "    </tr>\n",
       "  </tbody>\n",
       "</table>\n",
       "</div>"
      ],
      "text/plain": [
       "     id      company sentiment  \\\n",
       "0  2401  Borderlands  Negative   \n",
       "1  2401  Borderlands  Negative   \n",
       "2  2401  Borderlands  Negative   \n",
       "\n",
       "                                             comment  \n",
       "0  im getting on borderlands and i will murder yo...  \n",
       "1  I am coming to the borders and I will kill you...  \n",
       "2  im getting on borderlands and i will kill you ...  "
      ]
     },
     "execution_count": 4,
     "metadata": {},
     "output_type": "execute_result"
    }
   ],
   "source": [
    "# Define the column names\n",
    "column_names = ['id', 'company', 'sentiment', 'comment']\n",
    "\n",
    "# Load the CSV file into a dataframe with specified column names\n",
    "train = pd.read_csv('twitter_training.csv', header=None, names=column_names, quotechar='\"')\n",
    "\n",
    "# Display the first 3 rows of the train dataframe\n",
    "train.head(3)"
   ]
  },
  {
   "cell_type": "code",
   "execution_count": 5,
   "metadata": {
    "colab": {
     "base_uri": "https://localhost:8080/",
     "height": 143
    },
    "id": "_NwAhFSYB32Y",
    "outputId": "c2481209-f254-479f-9cd7-739ef927a14c"
   },
   "outputs": [
    {
     "data": {
      "text/html": [
       "<div>\n",
       "<style scoped>\n",
       "    .dataframe tbody tr th:only-of-type {\n",
       "        vertical-align: middle;\n",
       "    }\n",
       "\n",
       "    .dataframe tbody tr th {\n",
       "        vertical-align: top;\n",
       "    }\n",
       "\n",
       "    .dataframe thead th {\n",
       "        text-align: right;\n",
       "    }\n",
       "</style>\n",
       "<table border=\"1\" class=\"dataframe\">\n",
       "  <thead>\n",
       "    <tr style=\"text-align: right;\">\n",
       "      <th></th>\n",
       "      <th>id</th>\n",
       "      <th>company</th>\n",
       "      <th>sentiment</th>\n",
       "      <th>comment</th>\n",
       "    </tr>\n",
       "  </thead>\n",
       "  <tbody>\n",
       "    <tr>\n",
       "      <th>0</th>\n",
       "      <td>3364</td>\n",
       "      <td>Facebook</td>\n",
       "      <td>Irrelevant</td>\n",
       "      <td>I mentioned on Facebook that I was struggling ...</td>\n",
       "    </tr>\n",
       "    <tr>\n",
       "      <th>1</th>\n",
       "      <td>352</td>\n",
       "      <td>Amazon</td>\n",
       "      <td>Neutral</td>\n",
       "      <td>BBC News - Amazon boss Jeff Bezos rejects clai...</td>\n",
       "    </tr>\n",
       "    <tr>\n",
       "      <th>2</th>\n",
       "      <td>8312</td>\n",
       "      <td>Microsoft</td>\n",
       "      <td>Negative</td>\n",
       "      <td>@Microsoft Why do I pay for WORD when it funct...</td>\n",
       "    </tr>\n",
       "  </tbody>\n",
       "</table>\n",
       "</div>"
      ],
      "text/plain": [
       "     id    company   sentiment  \\\n",
       "0  3364   Facebook  Irrelevant   \n",
       "1   352     Amazon     Neutral   \n",
       "2  8312  Microsoft    Negative   \n",
       "\n",
       "                                             comment  \n",
       "0  I mentioned on Facebook that I was struggling ...  \n",
       "1  BBC News - Amazon boss Jeff Bezos rejects clai...  \n",
       "2  @Microsoft Why do I pay for WORD when it funct...  "
      ]
     },
     "execution_count": 5,
     "metadata": {},
     "output_type": "execute_result"
    }
   ],
   "source": [
    "# Define the column names\n",
    "column_names = ['id', 'company', 'sentiment', 'comment']\n",
    "\n",
    "# Load the CSV file into a dataframe with specified column names\n",
    "test = pd.read_csv('twitter_validation.csv', header=None, names=column_names, quotechar='\"')\n",
    "\n",
    "# Display the first 3 rows of the test dataframe\n",
    "test.head(3)"
   ]
  },
  {
   "cell_type": "markdown",
   "metadata": {},
   "source": [
    "## EDA\n",
    "In this cell, we:\n",
    "\n",
    "Convert the sentiment column in both the training and testing dataframes to the category data type for efficient memory usage and faster processing.\n",
    "Calculate the count of distinct sentiment values in the training data.\n",
    "Print the counts of each sentiment value to understand the distribution.\n",
    "Visualize the sentiment distribution using a pie chart, providing a clear graphical representation of the proportions of different sentiments in the dataset."
   ]
  },
  {
   "cell_type": "code",
   "execution_count": 6,
   "metadata": {},
   "outputs": [
    {
     "data": {
      "image/png": "[encoded data removed]",
      "text/plain": [
       "<Figure size 800x500 with 1 Axes>"
      ]
     },
     "metadata": {},
     "output_type": "display_data"
    },
    {
     "data": {
      "image/png": "[encoded data removed]",
      "text/plain": [
       "<Figure size 800x800 with 1 Axes>"
      ]
     },
     "metadata": {},
     "output_type": "display_data"
    }
   ],
   "source": [
    "import matplotlib.pyplot as plt\n",
    "import seaborn as sns\n",
    "\n",
    "#  Distribution of Sentiment (Bar Graph)\n",
    "plt.figure(figsize=(8, 5))\n",
    "sns.countplot(x='sentiment', data=train, palette='pastel')\n",
    "plt.title('Distribution of Sentiment')\n",
    "plt.xlabel('Sentiment')\n",
    "plt.ylabel('Count')\n",
    "plt.show()\n",
    "\n",
    "# Pie Chart of Sentiment Distribution\n",
    "sentiment_counts = train['sentiment'].value_counts()\n",
    "plt.figure(figsize=(8, 8))\n",
    "plt.pie(sentiment_counts, labels=sentiment_counts.index, autopct='%1.1f%%', startangle=90, colors=sns.color_palette('pastel'))\n",
    "plt.title('Pie Chart of Sentiment Distribution')\n",
    "plt.axis('equal')  # Equal aspect ratio ensures that pie is drawn as a circle.\n",
    "plt.show()\n"
   ]
  },
  {
   "cell_type": "code",
   "execution_count": 7,
   "metadata": {
    "colab": {
     "base_uri": "https://localhost:8080/",
     "height": 476
    },
    "id": "_lwq5MIiL9zD",
    "outputId": "f6a1ae3b-2bf4-414c-fc26-79fa60126189"
   },
   "outputs": [
    {
     "name": "stdout",
     "output_type": "stream",
     "text": [
      "sentiment\n",
      "Negative      22548\n",
      "Positive      20826\n",
      "Neutral       18318\n",
      "Irrelevant    12990\n",
      "Name: count, dtype: int64\n"
     ]
    },
    {
     "data": {
      "image/png": "[encoded data removed]",
      "text/plain": [
       "<Figure size 400x400 with 1 Axes>"
      ]
     },
     "metadata": {},
     "output_type": "display_data"
    }
   ],
   "source": [
    "# Convert the 'sentiment' column to type category\n",
    "train['sentiment'] = train['sentiment'].astype('category')\n",
    "test['sentiment'] = test['sentiment'].astype('category')\n",
    "\n",
    "\n",
    "sentiment_counts = train['sentiment'].value_counts()\n",
    "\n",
    "# Display the counts of distinct sentiment values\n",
    "print(sentiment_counts)\n",
    "\n",
    "# Plot the sentiment counts using a pie chart\n",
    "plt.figure(figsize=(4, 4))\n",
    "plt.pie(sentiment_counts, labels=sentiment_counts.index, autopct='%1.1f%%', startangle=140)\n",
    "plt.title('Distribution of Sentiments')\n",
    "plt.axis('equal')  # Equal aspect ratio ensures that pie is drawn as a circle.\n",
    "plt.show()"
   ]
  },
  {
   "cell_type": "markdown",
   "metadata": {},
   "source": [
    "## Data Preprocessing"
   ]
  },
  {
   "cell_type": "markdown",
   "metadata": {},
   "source": [
    "## Data Cleaning: Dropping Unnecessary Columns\n",
    "In this step, we clean the dataset by removing columns that are not needed for sentiment analysis. Specifically, we:\n",
    "\n",
    "Drop the 'id' and 'company' columns from both the training and testing dataframes.\n",
    "Display the first 3 rows of the cleaned train and test dataframes to verify the changes.\n",
    "This cleaning process helps in focusing only on the relevant columns ('sentiment' and 'comment') for our analysis."
   ]
  },
  {
   "cell_type": "code",
   "execution_count": 8,
   "metadata": {
    "colab": {
     "base_uri": "https://localhost:8080/"
    },
    "id": "--Tz64Z_NMVn",
    "outputId": "eb1e9d29-dad0-477c-e8d8-f19846ac3283"
   },
   "outputs": [
    {
     "name": "stdout",
     "output_type": "stream",
     "text": [
      "  sentiment                                            comment\n",
      "0  Negative  im getting on borderlands and i will murder yo...\n",
      "1  Negative  I am coming to the borders and I will kill you...\n",
      "2  Negative  im getting on borderlands and i will kill you ...\n",
      "    sentiment                                            comment\n",
      "0  Irrelevant  I mentioned on Facebook that I was struggling ...\n",
      "1     Neutral  BBC News - Amazon boss Jeff Bezos rejects clai...\n",
      "2    Negative  @Microsoft Why do I pay for WORD when it funct...\n"
     ]
    }
   ],
   "source": [
    "train = train.drop(columns=['id', 'company'])\n",
    "test = test.drop(columns=['id', 'company'])\n",
    "print(train.head(3))\n",
    "print(test.head(3))"
   ]
  },
  {
   "cell_type": "markdown",
   "metadata": {},
   "source": [
    "## Data Overview\n",
    "In this step, we display the information about the train and test dataframes using the info() method. This provides a concise summary of the dataframe"
   ]
  },
  {
   "cell_type": "code",
   "execution_count": 9,
   "metadata": {
    "colab": {
     "base_uri": "https://localhost:8080/"
    },
    "id": "lJEOSXwqOnIu",
    "outputId": "a0054755-66f5-4747-9f89-aed60f9a8cb5"
   },
   "outputs": [
    {
     "name": "stdout",
     "output_type": "stream",
     "text": [
      "<class 'pandas.core.frame.DataFrame'>\n",
      "RangeIndex: 74682 entries, 0 to 74681\n",
      "Data columns (total 2 columns):\n",
      " #   Column     Non-Null Count  Dtype   \n",
      "---  ------     --------------  -----   \n",
      " 0   sentiment  74682 non-null  category\n",
      " 1   comment    73996 non-null  object  \n",
      "dtypes: category(1), object(1)\n",
      "memory usage: 656.7+ KB\n",
      "None\n",
      "<class 'pandas.core.frame.DataFrame'>\n",
      "RangeIndex: 1000 entries, 0 to 999\n",
      "Data columns (total 2 columns):\n",
      " #   Column     Non-Null Count  Dtype   \n",
      "---  ------     --------------  -----   \n",
      " 0   sentiment  1000 non-null   category\n",
      " 1   comment    1000 non-null   object  \n",
      "dtypes: category(1), object(1)\n",
      "memory usage: 9.1+ KB\n",
      "None\n"
     ]
    }
   ],
   "source": [
    "print(train.info())\n",
    "print(test.info())"
   ]
  },
  {
   "cell_type": "code",
   "execution_count": 10,
   "metadata": {
    "colab": {
     "base_uri": "https://localhost:8080/"
    },
    "id": "RdlLqE5fPC2J",
    "outputId": "50f51f25-6a9c-49aa-f0e7-32e731990767"
   },
   "outputs": [
    {
     "name": "stdout",
     "output_type": "stream",
     "text": [
      "(74682, 2)\n",
      "(1000, 2)\n"
     ]
    }
   ],
   "source": [
    "print(train.shape)\n",
    "print(test.shape)"
   ]
  },
  {
   "cell_type": "markdown",
   "metadata": {},
   "source": [
    "# Data Cleaning: Dropping Null and Duplicates Rows\n",
    "In this step, we clean the dataset by removing Null and Duplicates Rows that are not needed for sentiment analysis. Specifically, we:"
   ]
  },
  {
   "cell_type": "code",
   "execution_count": 11,
   "metadata": {
    "colab": {
     "base_uri": "https://localhost:8080/"
    },
    "id": "anfCyCCZOueT",
    "outputId": "1eb02ced-9a65-4af6-9fc8-a41a7cf8d882"
   },
   "outputs": [
    {
     "name": "stdout",
     "output_type": "stream",
     "text": [
      "sentiment      0\n",
      "comment      686\n",
      "dtype: int64\n",
      "sentiment    0\n",
      "comment      0\n",
      "dtype: int64\n"
     ]
    }
   ],
   "source": [
    "print(train.isnull().sum())\n",
    "print(test.isnull().sum())"
   ]
  },
  {
   "cell_type": "code",
   "execution_count": 12,
   "metadata": {
    "id": "x-RYAWaWPZ9m"
   },
   "outputs": [],
   "source": [
    "train.dropna(inplace=True)"
   ]
  },
  {
   "cell_type": "code",
   "execution_count": 13,
   "metadata": {
    "colab": {
     "base_uri": "https://localhost:8080/"
    },
    "id": "Tc4_DDsLOw34",
    "outputId": "82cad23d-3a1f-4d69-80cc-54a2f3677a3a"
   },
   "outputs": [
    {
     "name": "stdout",
     "output_type": "stream",
     "text": [
      "4227\n",
      "1\n"
     ]
    }
   ],
   "source": [
    "print(train.duplicated().sum())\n",
    "print(test.duplicated().sum())"
   ]
  },
  {
   "cell_type": "code",
   "execution_count": 14,
   "metadata": {
    "id": "m5kfxa9lOzJh"
   },
   "outputs": [],
   "source": [
    "train.drop_duplicates(inplace=True)\n",
    "test.drop_duplicates(inplace=True)"
   ]
  },
  {
   "cell_type": "code",
   "execution_count": 15,
   "metadata": {
    "colab": {
     "base_uri": "https://localhost:8080/"
    },
    "id": "s3n8ECGPO-rG",
    "outputId": "823470f8-565b-4251-aa0f-b8c23e64f9d8"
   },
   "outputs": [
    {
     "name": "stdout",
     "output_type": "stream",
     "text": [
      "(69769, 2)\n",
      "(999, 2)\n"
     ]
    }
   ],
   "source": [
    "print(train.shape)\n",
    "print(test.shape)"
   ]
  },
  {
   "cell_type": "markdown",
   "metadata": {},
   "source": [
    "## Data Cleaning: Sentiment Mapping\n",
    "In this step, we perform the following actions to prepare our data for machine learning:\n",
    "\n",
    "1. Column Name Stripping: Remove any leading or trailing spaces from the column names in both train and test dataframes. This helps to avoid potential issues during data manipulation and analysis.\n",
    "\n",
    "2. Sentiment Mapping: Convert sentiment labels from categorical string values ('Negative', 'Neutral', 'Positive', 'Irrelevant') to numeric values. This is necessary for training machine learning models. "
   ]
  },
  {
   "cell_type": "code",
   "execution_count": 16,
   "metadata": {
    "colab": {
     "base_uri": "https://localhost:8080/"
    },
    "id": "qBFI_ACsFd2_",
    "outputId": "16e7cfc2-a222-42f2-b8d8-a5612522473c"
   },
   "outputs": [
    {
     "name": "stdout",
     "output_type": "stream",
     "text": [
      "  sentiment                                            comment\n",
      "0        -1  im getting on borderlands and i will murder yo...\n",
      "1        -1  I am coming to the borders and I will kill you...\n",
      "2        -1  im getting on borderlands and i will kill you ...\n",
      "3        -1  im coming on borderlands and i will murder you...\n",
      "4        -1  im getting on borderlands 2 and i will murder ...\n",
      "  sentiment                                            comment\n",
      "0         2  I mentioned on Facebook that I was struggling ...\n",
      "1         0  BBC News - Amazon boss Jeff Bezos rejects clai...\n",
      "2        -1  @Microsoft Why do I pay for WORD when it funct...\n",
      "3        -1  CSGO matchmaking is so full of closet hacking,...\n",
      "4         0  Now the President is slapping Americans in the...\n"
     ]
    }
   ],
   "source": [
    "# Remove leading/trailing spaces from column names if necessary\n",
    "train.columns = train.columns.str.strip()\n",
    "test.columns = test.columns.str.strip()\n",
    "\n",
    "# Map sentiment labels to numeric values\n",
    "sentiment_mapping = {\n",
    "    'Negative': -1,\n",
    "    'Neutral': 0,\n",
    "    'Positive': 1,\n",
    "    'Irrelevant': 2\n",
    "}\n",
    "\n",
    "train['sentiment'] = train['sentiment'].map(sentiment_mapping)\n",
    "test['sentiment'] = test['sentiment'].map(sentiment_mapping)\n",
    "\n",
    "# Check if the mapping was successful\n",
    "print(train.head())\n",
    "print(test.head())"
   ]
  },
  {
   "cell_type": "code",
   "execution_count": 17,
   "metadata": {
    "colab": {
     "base_uri": "https://localhost:8080/"
    },
    "id": "RkFYyaWdUUB1",
    "outputId": "0fe153df-f274-4125-80c2-3fefb4c09337"
   },
   "outputs": [
    {
     "name": "stdout",
     "output_type": "stream",
     "text": [
      "        sentiment comment\n",
      "count       69769   69769\n",
      "unique          4   69491\n",
      "top            -1      It\n",
      "freq        21243       4\n",
      "        sentiment                                            comment\n",
      "count         999                                                999\n",
      "unique          4                                                999\n",
      "top             0  I mentioned on Facebook that I was struggling ...\n",
      "freq          285                                                  1\n"
     ]
    }
   ],
   "source": [
    "print(train.describe())\n",
    "print(test.describe())"
   ]
  },
  {
   "cell_type": "markdown",
   "metadata": {},
   "source": [
    "## Data Preprocessing: Sentiment Category Conversion\n",
    "In this step:\n",
    "\n",
    "1. Type Conversion: Convert the 'sentiment' column in both the train and test dataframes to categorical type using .astype('category'). Categorical type is beneficial for columns with a fixed number of possible values (like sentiment labels) as it can save memory and speed up operations.\n",
    "\n",
    "2. Counting Sentiment Values: Calculate the frequency of each sentiment category in the train dataframe using .value_counts(). This provides insights into the distribution of sentiments in the dataset."
   ]
  },
  {
   "cell_type": "code",
   "execution_count": 18,
   "metadata": {
    "colab": {
     "base_uri": "https://localhost:8080/"
    },
    "id": "1Bde4yp8Ui0B",
    "outputId": "d6b90c6f-f908-4ed4-efa0-eae5c1822a8d"
   },
   "outputs": [
    {
     "name": "stdout",
     "output_type": "stream",
     "text": [
      "sentiment\n",
      "-1    21243\n",
      " 1    19132\n",
      " 0    17110\n",
      " 2    12284\n",
      "Name: count, dtype: int64\n"
     ]
    }
   ],
   "source": [
    "# Convert the 'sentiment' column to type category\n",
    "train['sentiment'] = train['sentiment'].astype('category')\n",
    "test['sentiment'] = test['sentiment'].astype('category')\n",
    "\n",
    "\n",
    "sentiment_counts = train['sentiment'].value_counts()\n",
    "\n",
    "# Display the counts of distinct sentiment values\n",
    "print(sentiment_counts)"
   ]
  },
  {
   "cell_type": "markdown",
   "metadata": {},
   "source": [
    "Data Preprocessing for NLP\n",
    "\n",
    "Import Libraries and Download NLTK Resources\n",
    "\n",
    "1. Importing Libraries and NLTK Resources: Imports necessary libraries and downloads NLTK resources for tokenization, stopwords, and WordNet.\n",
    "2. Initializing and Using NLTK's WordNet Lemmatizer: Initializes the WordNet lemmatizer from NLTK for text normalization.\n",
    "3. Defining the Preprocessing Function: Defines a function preprocess_text that tokenizes, lowers case, removes punctuation and stopwords, and lemmatizes text data.\n",
    "4. Applying Preprocessing Function: Applies preprocess_text function to the 'comment' column in both the train and test datasets.\n",
    "5. Verification: Prints the first 3 rows of both datasets after preprocessing to ensure data transformation was successful.\n",
    "   \n",
    "This structure helps in understanding the flow of your NLP preprocessing pipeline, making your code clear and easy to follow for others reviewing or working with it. Adjust paths and details as per your specific project needs.\n"
   ]
  },
  {
   "cell_type": "code",
   "execution_count": 19,
   "metadata": {
    "colab": {
     "base_uri": "https://localhost:8080/"
    },
    "id": "2gMZ1m8wNRkm",
    "outputId": "a649539a-b764-4e9f-9235-4901bf7c9a37"
   },
   "outputs": [
    {
     "name": "stderr",
     "output_type": "stream",
     "text": [
      "[nltk_data] Downloading package punkt to\n",
      "[nltk_data]     C:\\Users\\ssssr\\AppData\\Roaming\\nltk_data...\n",
      "[nltk_data]   Package punkt is already up-to-date!\n",
      "[nltk_data] Downloading package stopwords to\n",
      "[nltk_data]     C:\\Users\\ssssr\\AppData\\Roaming\\nltk_data...\n",
      "[nltk_data]   Package stopwords is already up-to-date!\n",
      "[nltk_data] Downloading package wordnet to\n",
      "[nltk_data]     C:\\Users\\ssssr\\AppData\\Roaming\\nltk_data...\n",
      "[nltk_data]   Package wordnet is already up-to-date!\n"
     ]
    },
    {
     "name": "stdout",
     "output_type": "stream",
     "text": [
      "  sentiment                       comment\n",
      "0        -1  im getting borderland murder\n",
      "1        -1            coming border kill\n",
      "2        -1    im getting borderland kill\n",
      "  sentiment                                            comment\n",
      "0         2  mentioned facebook struggling motivation go ru...\n",
      "1         0  bbc news amazon bos jeff bezos reject claim co...\n",
      "2        -1  microsoft pay word function poorly samsungus c...\n"
     ]
    }
   ],
   "source": [
    "import pandas as pd\n",
    "import nltk\n",
    "from nltk.corpus import stopwords\n",
    "from nltk.tokenize import word_tokenize\n",
    "from nltk.stem import WordNetLemmatizer\n",
    "import string\n",
    "\n",
    "# Download NLTK resources (you only need to do this once)\n",
    "nltk.download('punkt')\n",
    "nltk.download('stopwords')\n",
    "nltk.download('wordnet')\n",
    "\n",
    "# Initialize NLTK's WordNet lemmatizer\n",
    "lemmatizer = WordNetLemmatizer()\n",
    "\n",
    "# Define a function for NLP preprocessing\n",
    "def preprocess_text(text):\n",
    "    if isinstance(text, str):  # Check if text is a string\n",
    "        # Tokenization\n",
    "        tokens = word_tokenize(text)\n",
    "\n",
    "        # Lowercasing\n",
    "        tokens = [token.lower() for token in tokens]\n",
    "\n",
    "        # Removing punctuation\n",
    "        tokens = [token for token in tokens if token not in string.punctuation]\n",
    "\n",
    "        # Removing stopwords\n",
    "        stop_words = set(stopwords.words('english'))\n",
    "        tokens = [token for token in tokens if token not in stop_words]\n",
    "\n",
    "        # Lemmatization\n",
    "        tokens = [lemmatizer.lemmatize(token) for token in tokens]\n",
    "\n",
    "        # Join the tokens back into a single string\n",
    "        processed_text = ' '.join(tokens)\n",
    "\n",
    "        return processed_text\n",
    "    else:\n",
    "        return ''  # Return empty string for non-string values\n",
    "\n",
    "# Apply the preprocessing function to the 'genres_and_tags_str' column\n",
    "train['comment'] = train['comment'].apply(preprocess_text)\n",
    "test['comment'] = test['comment'].apply(preprocess_text)\n",
    "\n",
    "# Display the first few rows to verify\n",
    "print(train.head(3))\n",
    "print(test.head(3))"
   ]
  },
  {
   "cell_type": "markdown",
   "metadata": {
    "id": "cpBNCRHEQ8nt"
   },
   "source": [
    "TF-IDF Vectorization\n",
    "\n",
    "1. Importing Libraries: Imports the necessary library for TF-IDF vectorization.\n",
    "2. Initializing TF-IDF Vectorizer: Initializes the TF-IDF vectorizer.\n",
    "3. Fit and Transform on Training Data: Fits and transforms the vectorizer on the training data to learn the vocabulary and create the TF-IDF matrix.\n",
    "4. Transform Test Data: Transforms the test data using the fitted vectorizer to maintain consistency in feature space.\n",
    "5. Display Transformed Data Shapes: Prints the shapes of the TF-IDF matrices for both the training and test data to verify the transformation was successful.\n"
   ]
  },
  {
   "cell_type": "code",
   "execution_count": 20,
   "metadata": {
    "colab": {
     "base_uri": "https://localhost:8080/"
    },
    "id": "tlb3K6NiVhxT",
    "outputId": "d2a9b1fe-77f2-4c66-fcc3-ff91d9feba94"
   },
   "outputs": [
    {
     "name": "stdout",
     "output_type": "stream",
     "text": [
      "Shape of TF-IDF matrix for training data: (69769, 28859)\n",
      "Shape of TF-IDF matrix for test data: (999, 28859)\n"
     ]
    }
   ],
   "source": [
    "from sklearn.feature_extraction.text import TfidfVectorizer\n",
    "\n",
    "# Initialize the TF-IDF vectorizer\n",
    "tfidf_vectorizer = TfidfVectorizer()\n",
    "\n",
    "# Fit and transform on the training data\n",
    "train_tfidf = tfidf_vectorizer.fit_transform(train['comment'])\n",
    "\n",
    "# Transform the test data using the fitted vectorizer\n",
    "test_tfidf = tfidf_vectorizer.transform(test['comment'])\n",
    "\n",
    "# Display the shape of the transformed data\n",
    "print(\"Shape of TF-IDF matrix for training data:\", train_tfidf.shape)\n",
    "print(\"Shape of TF-IDF matrix for test data:\", test_tfidf.shape)\n"
   ]
  },
  {
   "cell_type": "markdown",
   "metadata": {},
   "source": [
    "## Logistic Regression Model Training and Evaluation\n",
    "\n",
    "1. Import Libraries: Imports necessary libraries for Logistic Regression modeling and evaluation.\n",
    "2. Initialize Logistic Regression Model: Initializes a Logistic Regression model.\n",
    "3. Train the Model: Fits the model on the TF-IDF features (train_tfidf) and corresponding sentiment labels (train['sentiment']).\n",
    "4. Make Predictions: Uses the trained model to predict sentiment labels for the test data (test_tfidf).\n",
    "5. Evaluate Model Performance: Computes the accuracy score of the model predictions against the actual sentiment labels in the test set and prints it.\n",
    "6. Display Classification Report: Prints the classification report, which includes precision, recall, F1-score, and support for each sentiment class based on the model predictions and actual labels.\n",
    "7. \n",
    "This code provides a structured overview of your Logistic Regression model training, prediction, and evaluation process,"
   ]
  },
  {
   "cell_type": "code",
   "execution_count": 21,
   "metadata": {
    "colab": {
     "base_uri": "https://localhost:8080/"
    },
    "id": "4fAQw7isV_uy",
    "outputId": "6f4ecee2-6f9e-4d46-e6be-f3ff349d02a0"
   },
   "outputs": [
    {
     "name": "stdout",
     "output_type": "stream",
     "text": [
      "Accuracy: 0.9189\n",
      "\n",
      "Classification Report:\n",
      "              precision    recall  f1-score   support\n",
      "\n",
      "          -1       0.91      0.94      0.92       266\n",
      "           0       0.95      0.91      0.93       285\n",
      "           1       0.91      0.91      0.91       276\n",
      "           2       0.91      0.91      0.91       172\n",
      "\n",
      "    accuracy                           0.92       999\n",
      "   macro avg       0.92      0.92      0.92       999\n",
      "weighted avg       0.92      0.92      0.92       999\n",
      "\n"
     ]
    }
   ],
   "source": [
    "from sklearn.linear_model import LogisticRegression\n",
    "from sklearn.metrics import classification_report, accuracy_score\n",
    "\n",
    "# Initialize Logistic Regression model\n",
    "model = LogisticRegression()\n",
    "\n",
    "# Train the model on the TF-IDF features and sentiment labels\n",
    "model.fit(train_tfidf, train['sentiment'])\n",
    "\n",
    "# Predict sentiment labels for test data\n",
    "predictions = model.predict(test_tfidf)\n",
    "\n",
    "# Evaluate model performance\n",
    "accuracy = accuracy_score(test['sentiment'], predictions)\n",
    "print(f'Accuracy: {accuracy:.4f}')\n",
    "\n",
    "# Display classification report\n",
    "print('\\nClassification Report:')\n",
    "print(classification_report(test['sentiment'], predictions))\n"
   ]
  },
  {
   "cell_type": "markdown",
   "metadata": {},
   "source": [
    "## Decision Tree Model Training and Evaluation\n",
    "\n",
    "1. Import Libraries: Imports necessary libraries for Decision Tree modeling and evaluation.\n",
    "2. Initialize Decision Tree Model: Initializes a Decision Tree classifier model.\n",
    "3. Train the Model: Fits the model on the TF-IDF features (train_tfidf) and corresponding sentiment labels (train['sentiment']).\n",
    "4. Make Predictions: Uses the trained Decision Tree model to predict sentiment labels for the test data (test_tfidf).\n",
    "5. Evaluate Model Performance: Computes the accuracy score of the Decision Tree model predictions against the actual sentiment labels in the test set and prints it.\n",
    "6. Display Classification Report: Prints the classification report, which includes precision, recall, F1-score, and support for each sentiment class based on the Decision Tree model predictions and actual labels.\n",
    "   \n",
    "This code organizes the Decision Tree model training, prediction, and evaluation process."
   ]
  },
  {
   "cell_type": "code",
   "execution_count": 22,
   "metadata": {
    "colab": {
     "base_uri": "https://localhost:8080/"
    },
    "id": "0CzpG5-dW5tO",
    "outputId": "a140569c-cf29-4652-8af4-0930159489ab"
   },
   "outputs": [
    {
     "name": "stdout",
     "output_type": "stream",
     "text": [
      "Decision Tree Accuracy: 0.8909\n",
      "\n",
      "Decision Tree Classification Report:\n",
      "              precision    recall  f1-score   support\n",
      "\n",
      "          -1       0.90      0.94      0.92       266\n",
      "           0       0.90      0.87      0.88       285\n",
      "           1       0.87      0.88      0.88       276\n",
      "           2       0.91      0.86      0.88       172\n",
      "\n",
      "    accuracy                           0.89       999\n",
      "   macro avg       0.89      0.89      0.89       999\n",
      "weighted avg       0.89      0.89      0.89       999\n",
      "\n"
     ]
    }
   ],
   "source": [
    "from sklearn.tree import DecisionTreeClassifier\n",
    "\n",
    "# Initialize Decision Tree model\n",
    "dt_model = DecisionTreeClassifier()\n",
    "\n",
    "# Train the Decision Tree model on the TF-IDF features and sentiment labels\n",
    "dt_model.fit(train_tfidf, train['sentiment'])\n",
    "\n",
    "# Predict sentiment labels for test data using the trained model\n",
    "dt_predictions = dt_model.predict(test_tfidf)\n",
    "\n",
    "# Evaluate Decision Tree model performance\n",
    "dt_accuracy = accuracy_score(test['sentiment'], dt_predictions)\n",
    "print(f'Decision Tree Accuracy: {dt_accuracy:.4f}')\n",
    "\n",
    "# Display Decision Tree classification report\n",
    "print('\\nDecision Tree Classification Report:')\n",
    "print(classification_report(test['sentiment'], dt_predictions))"
   ]
  },
  {
   "cell_type": "markdown",
   "metadata": {},
   "source": [
    "## Random Forest Model Training and Evaluation\n",
    "\n",
    "1. Import Libraries: Imports necessary libraries for Random Forest modeling and evaluation.\n",
    "2. Initialize Random Forest Model: Initializes a Random Forest classifier model.\n",
    "3. Train the Model: Fits the model on the TF-IDF features (train_tfidf) and corresponding sentiment labels (train['sentiment']).\n",
    "4. Make Predictions: Uses the trained Random Forest model to predict sentiment labels for the test data (test_tfidf).\n",
    "5. Evaluate Model Performance: Computes the accuracy score of the Random Forest model predictions against the actual sentiment labels in the test set and prints it.\n",
    "6. Display Classification Report: Prints the classification report, which includes precision, recall, F1-score, and support for each sentiment class based on the Random Forest model predictions and actual labels.\n",
    "   \n",
    "This code outlines the Random Forest model training, prediction, and evaluation process."
   ]
  },
  {
   "cell_type": "code",
   "execution_count": 23,
   "metadata": {
    "colab": {
     "base_uri": "https://localhost:8080/"
    },
    "id": "cHDwbaErXYFi",
    "outputId": "7e676977-7dc1-4679-f8e5-bad4c721f831"
   },
   "outputs": [
    {
     "name": "stdout",
     "output_type": "stream",
     "text": [
      "Random Forest Accuracy: 0.9540\n",
      "\n",
      "Random Forest Classification Report:\n",
      "              precision    recall  f1-score   support\n",
      "\n",
      "          -1       0.96      0.96      0.96       266\n",
      "           0       0.93      0.96      0.95       285\n",
      "           1       0.95      0.96      0.96       276\n",
      "           2       0.99      0.91      0.95       172\n",
      "\n",
      "    accuracy                           0.95       999\n",
      "   macro avg       0.96      0.95      0.95       999\n",
      "weighted avg       0.95      0.95      0.95       999\n",
      "\n"
     ]
    }
   ],
   "source": [
    "from sklearn.ensemble import RandomForestClassifier\n",
    "\n",
    "# Initialize Random Forest model\n",
    "rf_model = RandomForestClassifier()\n",
    "\n",
    "# Train the Random Forest model on the TF-IDF features and sentiment labels\n",
    "rf_model.fit(train_tfidf, train['sentiment'])\n",
    "\n",
    "# Predict sentiment labels for test data using the trained model\n",
    "rf_predictions = rf_model.predict(test_tfidf)\n",
    "\n",
    "# Evaluate Random Forest model performance\n",
    "rf_accuracy = accuracy_score(test['sentiment'], rf_predictions)\n",
    "print(f'Random Forest Accuracy: {rf_accuracy:.4f}')\n",
    "\n",
    "# Display Random Forest classification report\n",
    "print('\\nRandom Forest Classification Report:')\n",
    "print(classification_report(test['sentiment'], rf_predictions))\n"
   ]
  },
  {
   "cell_type": "markdown",
   "metadata": {},
   "source": [
    "Gradient Boosting Model Training and Evaluation\n",
    "\n",
    "1. Import Libraries: Imports necessary libraries for Gradient Boosting modeling and evaluation.\n",
    "2. Initialize Gradient Boosting Model: Initializes a Gradient Boosting classifier model.\n",
    "3. Train the Model: Fits the model on the TF-IDF features (train_tfidf) and corresponding sentiment labels (train['sentiment']).\n",
    "4. Make Predictions: Uses the trained Gradient Boosting model to predict sentiment labels for the test data (test_tfidf).\n",
    "5. Evaluate Model Performance: Computes the accuracy score of the Gradient Boosting model predictions against the actual sentiment labels in the test set and prints it.\n",
    "6. Display Classification Report: Prints the classification report, which includes precision, recall, F1-score, and support for each sentiment class based on the Gradient Boosting model predictions and actual labels.\n",
    "   \n",
    "This markdown structure summarizes the Gradient Boosting model training, prediction, and evaluation process."
   ]
  },
  {
   "cell_type": "code",
   "execution_count": 24,
   "metadata": {
    "colab": {
     "base_uri": "https://localhost:8080/"
    },
    "id": "ah7i3zMVY70G",
    "outputId": "aee01819-3eab-4bed-f774-7917a86b4a59"
   },
   "outputs": [
    {
     "name": "stdout",
     "output_type": "stream",
     "text": [
      "Gradient Boosting Accuracy: 0.5776\n",
      "\n",
      "Gradient Boosting Classification Report:\n",
      "              precision    recall  f1-score   support\n",
      "\n",
      "          -1       0.47      0.82      0.60       266\n",
      "           0       0.66      0.53      0.59       285\n",
      "           1       0.65      0.57      0.61       276\n",
      "           2       0.80      0.28      0.41       172\n",
      "\n",
      "    accuracy                           0.58       999\n",
      "   macro avg       0.65      0.55      0.55       999\n",
      "weighted avg       0.63      0.58      0.57       999\n",
      "\n"
     ]
    }
   ],
   "source": [
    "from sklearn.ensemble import GradientBoostingClassifier\n",
    "\n",
    "# Initialize Gradient Boosting model\n",
    "gb_model = GradientBoostingClassifier()\n",
    "\n",
    "# Train the Gradient Boosting model on the TF-IDF features and sentiment labels\n",
    "gb_model.fit(train_tfidf, train['sentiment'])\n",
    "\n",
    "# Predict sentiment labels for test data using the trained model\n",
    "gb_predictions = gb_model.predict(test_tfidf)\n",
    "\n",
    "# Evaluate Gradient Boosting model performance\n",
    "gb_accuracy = accuracy_score(test['sentiment'], gb_predictions)\n",
    "print(f'Gradient Boosting Accuracy: {gb_accuracy:.4f}')\n",
    "\n",
    "# Display Gradient Boosting classification report\n",
    "print('\\nGradient Boosting Classification Report:')\n",
    "print(classification_report(test['sentiment'], gb_predictions))\n"
   ]
  },
  {
   "cell_type": "markdown",
   "metadata": {},
   "source": [
    "## Saving Models and Dataframes\n",
    "\n",
    "1. Import Libraries: Imports the pickle module for saving Python objects.\n",
    "2. Save RandomForest Model: Saves the trained RandomForest model (rf_model) as a .pkl file using pickle.dump().\n",
    "3. Save TF-IDF Vectorizer: Saves the TF-IDF vectorizer (tfidf_vectorizer) used for transforming text data into numerical features.\n",
    "4. Print Confirmation: Prints a message confirming successful saving of models and dataframes.\n",
    "   \n",
    "This code documents the process of saving your RandomForest model and TF-IDF vectorizer, ensuring clarity."
   ]
  },
  {
   "cell_type": "code",
   "execution_count": 25,
   "metadata": {
    "colab": {
     "base_uri": "https://localhost:8080/"
    },
    "id": "L7sAW7TDcTYF",
    "outputId": "5cb3f35d-043a-4b7d-c658-dbaabe23ed8f"
   },
   "outputs": [
    {
     "name": "stdout",
     "output_type": "stream",
     "text": [
      "Models and dataframes saved successfully.\n"
     ]
    }
   ],
   "source": [
    "import pickle\n",
    "\n",
    "# Save RandomForest model\n",
    "with open('rf_model.pkl', 'wb') as f:\n",
    "    pickle.dump(rf_model, f)\n",
    "\n",
    "# Save train and test dataframes\n",
    "# train.to_pickle('train_data.pkl')\n",
    "# test.to_pickle('test_data.pkl')\n",
    "\n",
    "with open('vectorizer.pkl', 'wb') as f:\n",
    "    pickle.dump(tfidf_vectorizer, f)\n",
    "\n",
    "print(\"Models and dataframes saved successfully.\")\n"
   ]
  },
  {
   "cell_type": "markdown",
   "metadata": {
    "id": "VIlIzYq6eXYT"
   },
   "source": [
    "## Saving Dataframes as NumPy Arrays\n",
    "\n",
    "1. Import Libraries: Imports the numpy module for array operations.\n",
    "2. Convert Dataframes to NumPy Arrays: Converts the train and test dataframes to NumPy arrays using the to_numpy() method.\n",
    "3. Save NumPy Arrays as .npy Files: Saves the NumPy arrays (train_array and test_array) as .npy files using np.save().\n",
    "4. Print Confirmation: Prints a message confirming successful saving of dataframes as NumPy arrays.\n",
    "   \n",
    "This code documents the process of converting and saving your dataframes as NumPy arrays"
   ]
  },
  {
   "cell_type": "code",
   "execution_count": 26,
   "metadata": {
    "colab": {
     "base_uri": "https://localhost:8080/"
    },
    "id": "gnOiO3J_cWd3",
    "outputId": "0068b676-c875-44de-face-7a8bc18b6927"
   },
   "outputs": [
    {
     "name": "stdout",
     "output_type": "stream",
     "text": [
      "Dataframes saved as .npy files successfully.\n"
     ]
    }
   ],
   "source": [
    "import numpy as np\n",
    "\n",
    "# Convert dataframes to NumPy arrays\n",
    "train_array = train.to_numpy()\n",
    "test_array = test.to_numpy()\n",
    "\n",
    "# Save NumPy arrays as .npy files\n",
    "np.save('train_data.npy', train_array)\n",
    "np.save('test_data.npy', test_array)\n",
    "\n",
    "print(\"Dataframes saved as .npy files successfully.\")\n"
   ]
  },
  {
   "cell_type": "markdown",
   "metadata": {},
   "source": [
    "## Sentiment Prediction Example\n",
    "\n",
    "1. Import Libraries: Imports necessary libraries including nltk, pickle, numpy, and classes from nltk.corpus, nltk.tokenize, and nltk.stem.\n",
    "2. Load Trained Models and NLTK Resources: Loads the trained Random Forest model (rf_model.pkl), TF-IDF vectorizer (vectorizer.pkl), and downloads NLTK resources (punkt, stopwords, wordnet).\n",
    "3. Define NLP Preprocessing Function: Defines a function (preprocess_text) for tokenization, lowercasing, removing punctuation and stopwords, and lemmatization.\n",
    "4. Example Sentiment Prediction: Provides an example (sentence) for sentiment prediction using the loaded model and vectorizer, demonstrating how to preprocess text and predict sentiment.\n",
    "   \n",
    "This code documents the process of sentiment prediction using the loaded model and vectorizer"
   ]
  },
  {
   "cell_type": "code",
   "execution_count": 27,
   "metadata": {
    "colab": {
     "base_uri": "https://localhost:8080/"
    },
    "id": "FA4gEdLUdcva",
    "outputId": "f72855b5-8f49-469f-db04-d4f6b1723ce2"
   },
   "outputs": [
    {
     "name": "stdout",
     "output_type": "stream",
     "text": [
      "Predicted Sentiment: 1\n"
     ]
    },
    {
     "name": "stderr",
     "output_type": "stream",
     "text": [
      "[nltk_data] Downloading package punkt to\n",
      "[nltk_data]     C:\\Users\\ssssr\\AppData\\Roaming\\nltk_data...\n",
      "[nltk_data]   Package punkt is already up-to-date!\n",
      "[nltk_data] Downloading package stopwords to\n",
      "[nltk_data]     C:\\Users\\ssssr\\AppData\\Roaming\\nltk_data...\n",
      "[nltk_data]   Package stopwords is already up-to-date!\n",
      "[nltk_data] Downloading package wordnet to\n",
      "[nltk_data]     C:\\Users\\ssssr\\AppData\\Roaming\\nltk_data...\n",
      "[nltk_data]   Package wordnet is already up-to-date!\n"
     ]
    }
   ],
   "source": [
    "import nltk\n",
    "from nltk.corpus import stopwords\n",
    "from nltk.tokenize import word_tokenize\n",
    "from nltk.stem import WordNetLemmatizer\n",
    "import string\n",
    "import numpy as np\n",
    "import pickle\n",
    "\n",
    "# Load the trained RandomForest model\n",
    "with open('rf_model.pkl', 'rb') as f:\n",
    "    rf_model = pickle.load(f)\n",
    "\n",
    "# Load the TF-IDF vectorizer (replace 'vectorizer.pkl' with your saved vectorizer file)\n",
    "with open('vectorizer.pkl', 'rb') as f:\n",
    "    vectorizer = pickle.load(f)\n",
    "\n",
    "# Define NLTK resources (you only need to do this once)\n",
    "nltk.download('punkt')\n",
    "nltk.download('stopwords')\n",
    "nltk.download('wordnet')\n",
    "\n",
    "# Initialize NLTK's WordNet lemmatizer\n",
    "lemmatizer = WordNetLemmatizer()\n",
    "\n",
    "# Function for NLP preprocessing\n",
    "def preprocess_text(text):\n",
    "    # Tokenization\n",
    "    tokens = word_tokenize(text)\n",
    "\n",
    "    # Lowercasing\n",
    "    tokens = [token.lower() for token in tokens]\n",
    "\n",
    "    # Removing punctuation\n",
    "    tokens = [token for token in tokens if token not in string.punctuation]\n",
    "\n",
    "    # Removing stopwords\n",
    "    stop_words = set(stopwords.words('english'))\n",
    "    tokens = [token for token in tokens if token not in stop_words]\n",
    "\n",
    "    # Lemmatization\n",
    "    tokens = [lemmatizer.lemmatize(token) for token in tokens]\n",
    "\n",
    "    # Join tokens into a single string\n",
    "    processed_text = ' '.join(tokens)\n",
    "\n",
    "    return processed_text\n",
    "\n",
    "# Example sentence to predict sentiment\n",
    "sentence = \"I really enjoyed the movie, it was fantastic!\"\n",
    "\n",
    "# Preprocess the sentence\n",
    "processed_sentence = preprocess_text(sentence)\n",
    "\n",
    "# Transform the preprocessed sentence using the loaded vectorizer\n",
    "sentence_tfidf = vectorizer.transform([processed_sentence])\n",
    "\n",
    "# Predict sentiment label for the sentence\n",
    "predicted_sentiment = rf_model.predict(sentence_tfidf)\n",
    "\n",
    "# Print the predicted sentiment label\n",
    "print(f\"Predicted Sentiment: {predicted_sentiment[0]}\")"
   ]
  },
  {
   "cell_type": "markdown",
   "metadata": {},
   "source": [
    "# Sentiment Analysis Example Using Trained Model\n",
    "\n",
    "1. Import Libraries: Imports necessary libraries including nltk, pickle, numpy, and classes from nltk.corpus, nltk.tokenize, and nltk.stem.\n",
    "2. Load Trained Model and Vectorizer: Loads the trained Random Forest model (rf_model.pkl) and TF-IDF vectorizer (vectorizer.pkl), and downloads NLTK resources (punkt, stopwords, wordnet).\n",
    "3. Define NLP Preprocessing Function: Defines a function (preprocess_text) for tokenization, lowercasing, removing punctuation and stopwords, and lemmatization.\n",
    "4. Example Sentiment Analysis: Provides an example (sentence) for sentiment analysis using the loaded model and vectorizer, demonstrating how to preprocess text, predict sentiment, and map sentiment labels to categories.\n",
    "\n",
    "This code documents the process of sentiment analysis using the loaded model and vectorizer"
   ]
  },
  {
   "cell_type": "code",
   "execution_count": 28,
   "metadata": {
    "colab": {
     "base_uri": "https://localhost:8080/"
    },
    "id": "-4IUNpQsViVo",
    "outputId": "7cce990e-2b07-4208-af38-970d71551344"
   },
   "outputs": [
    {
     "name": "stdout",
     "output_type": "stream",
     "text": [
      "Predicted Sentiment Category: Negative\n"
     ]
    }
   ],
   "source": [
    "import nltk\n",
    "from nltk.corpus import stopwords\n",
    "from nltk.tokenize import word_tokenize\n",
    "from nltk.stem import WordNetLemmatizer\n",
    "import string\n",
    "import numpy as np\n",
    "import pickle\n",
    "\n",
    "# Load the trained RandomForest model\n",
    "with open('rf_model.pkl', 'rb') as f:\n",
    "    rf_model = pickle.load(f)\n",
    "\n",
    "# Load the TF-IDF vectorizer (replace 'vectorizer.pkl' with your saved vectorizer file)\n",
    "with open('vectorizer.pkl', 'rb') as f:\n",
    "    vectorizer = pickle.load(f)\n",
    "\n",
    "# Define NLTK resources (you only need to do this once)\n",
    "nltk.download('punkt', quiet=True)\n",
    "nltk.download('stopwords', quiet=True)\n",
    "nltk.download('wordnet', quiet=True)\n",
    "\n",
    "# Initialize NLTK's WordNet lemmatizer\n",
    "lemmatizer = WordNetLemmatizer()\n",
    "\n",
    "# Function for NLP preprocessing\n",
    "def preprocess_text(text):\n",
    "    # Tokenization\n",
    "    tokens = word_tokenize(text)\n",
    "\n",
    "    # Lowercasing\n",
    "    tokens = [token.lower() for token in tokens]\n",
    "\n",
    "    # Removing punctuation\n",
    "    tokens = [token for token in tokens if token not in string.punctuation]\n",
    "\n",
    "    # Removing stopwords\n",
    "    stop_words = set(stopwords.words('english'))\n",
    "    tokens = [token for token in tokens if token not in stop_words]\n",
    "\n",
    "    # Lemmatization\n",
    "    tokens = [lemmatizer.lemmatize(token) for token in tokens]\n",
    "\n",
    "    # Join tokens into a single string\n",
    "    processed_text = ' '.join(tokens)\n",
    "\n",
    "    return processed_text\n",
    "\n",
    "# Example sentence to predict sentiment\n",
    "sentence = \"Hate bad austonish\"\n",
    "\n",
    "# Preprocess the sentence\n",
    "processed_sentence = preprocess_text(sentence)\n",
    "\n",
    "# Transform the preprocessed sentence using the loaded vectorizer\n",
    "sentence_tfidf = vectorizer.transform([processed_sentence])\n",
    "\n",
    "# Predict sentiment label for the sentence\n",
    "predicted_sentiment = rf_model.predict(sentence_tfidf)\n",
    "\n",
    "# Print the predicted sentiment label\n",
    "# print(f\"Predicted Sentiment: {predicted_sentiment[0]}\")\n",
    "\n",
    "# Mapping dictionary\n",
    "sentiment_mapping_reverse = {\n",
    "    -1: 'Negative',\n",
    "    0: 'Neutral',\n",
    "    1: 'Positive',\n",
    "    2: 'Irrelevant'\n",
    "}\n",
    "\n",
    "# Print the predicted sentiment category\n",
    "predicted_category = sentiment_mapping_reverse.get(predicted_sentiment[0], 'Unknown')\n",
    "print(f\"Predicted Sentiment Category: {predicted_category}\")\n"
   ]
  }
 ],
 "metadata": {
  "colab": {
   "provenance": []
  },
  "kernelspec": {
   "display_name": "Python 3",
   "language": "python",
   "name": "python3"
  },
  "language_info": {
   "codemirror_mode": {
    "name": "ipython",
    "version": 3
   },
   "file_extension": ".py",
   "mimetype": "text/x-python",
   "name": "python",
   "nbconvert_exporter": "python",
   "pygments_lexer": "ipython3",
   "version": "3.12.2"
  }
 },
 "nbformat": 4,
 "nbformat_minor": 4
}
